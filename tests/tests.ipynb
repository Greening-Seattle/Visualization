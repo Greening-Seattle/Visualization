{
 "cells": [
  {
   "cell_type": "code",
   "execution_count": 1,
   "id": "according-accordance",
   "metadata": {},
   "outputs": [],
   "source": [
    "import tests_vis"
   ]
  },
  {
   "cell_type": "code",
   "execution_count": 2,
   "id": "double-thread",
   "metadata": {},
   "outputs": [],
   "source": [
    "from tests_vis import test_plot_zip_traffic_data"
   ]
  },
  {
   "cell_type": "code",
   "execution_count": 3,
   "id": "useful-watch",
   "metadata": {},
   "outputs": [],
   "source": [
    "from tests_vis import test_plot_traffic_data_over_time"
   ]
  },
  {
   "cell_type": "code",
   "execution_count": 4,
   "id": "scenic-lease",
   "metadata": {},
   "outputs": [],
   "source": [
    "test_plot_zip_traffic_data(15)"
   ]
  },
  {
   "cell_type": "code",
   "execution_count": 5,
   "id": "patient-cornwall",
   "metadata": {
    "scrolled": true
   },
   "outputs": [],
   "source": [
    "test_plot_traffic_data_over_time()"
   ]
  },
  {
   "cell_type": "code",
   "execution_count": null,
   "id": "mexican-harrison",
   "metadata": {},
   "outputs": [],
   "source": []
  }
 ],
 "metadata": {
  "kernelspec": {
   "display_name": "Python 3",
   "language": "python",
   "name": "python3"
  },
  "language_info": {
   "codemirror_mode": {
    "name": "ipython",
    "version": 3
   },
   "file_extension": ".py",
   "mimetype": "text/x-python",
   "name": "python",
   "nbconvert_exporter": "python",
   "pygments_lexer": "ipython3",
   "version": "3.8.5"
  }
 },
 "nbformat": 4,
 "nbformat_minor": 5
}
