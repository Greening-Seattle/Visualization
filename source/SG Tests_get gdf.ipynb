{
 "cells": [
  {
   "cell_type": "markdown",
   "id": "lined-james",
   "metadata": {},
   "source": [
    "- Here I'm testing the get gdf function. Two tests check int and check year."
   ]
  },
  {
   "cell_type": "code",
   "execution_count": 1,
   "id": "nutritional-vanilla",
   "metadata": {},
   "outputs": [
    {
     "ename": "ModuleNotFoundError",
     "evalue": "No module named 'get_trafficdata'",
     "output_type": "error",
     "traceback": [
      "\u001b[0;31m---------------------------------------------------------------------------\u001b[0m",
      "\u001b[0;31mModuleNotFoundError\u001b[0m                       Traceback (most recent call last)",
      "\u001b[0;32m<ipython-input-1-69d2fb308ae4>\u001b[0m in \u001b[0;36m<module>\u001b[0;34m\u001b[0m\n\u001b[0;32m----> 1\u001b[0;31m \u001b[0;32mimport\u001b[0m \u001b[0mget_trafficdata\u001b[0m\u001b[0;34m\u001b[0m\u001b[0;34m\u001b[0m\u001b[0m\n\u001b[0m",
      "\u001b[0;31mModuleNotFoundError\u001b[0m: No module named 'get_trafficdata'"
     ]
    }
   ],
   "source": [
    "import get_trafficdata"
   ]
  },
  {
   "cell_type": "code",
   "execution_count": 6,
   "id": "random-marketing",
   "metadata": {
    "scrolled": true
   },
   "outputs": [
    {
     "ename": "IndexError",
     "evalue": "list index out of range",
     "output_type": "error",
     "traceback": [
      "\u001b[0;31m---------------------------------------------------------------------------\u001b[0m",
      "\u001b[0;31mIndexError\u001b[0m                                Traceback (most recent call last)",
      "\u001b[0;32m<ipython-input-6-ca3f8fb93670>\u001b[0m in \u001b[0;36m<module>\u001b[0;34m\u001b[0m\n\u001b[0;32m----> 1\u001b[0;31m \u001b[0mget_trafficdata\u001b[0m\u001b[0;34m.\u001b[0m\u001b[0mget_gdf\u001b[0m\u001b[0;34m(\u001b[0m\u001b[0;36m2007\u001b[0m\u001b[0;34m)\u001b[0m\u001b[0;34m\u001b[0m\u001b[0;34m\u001b[0m\u001b[0m\n\u001b[0m",
      "\u001b[0;32m~/Project/Prediction/get_trafficdata.py\u001b[0m in \u001b[0;36mget_gdf\u001b[0;34m(year)\u001b[0m\n\u001b[1;32m     27\u001b[0m     '''\n\u001b[1;32m     28\u001b[0m     \u001b[0mnum\u001b[0m \u001b[0;34m=\u001b[0m \u001b[0myear\u001b[0m\u001b[0;34m-\u001b[0m\u001b[0;36m7\u001b[0m\u001b[0;34m\u001b[0m\u001b[0;34m\u001b[0m\u001b[0m\n\u001b[0;32m---> 29\u001b[0;31m     \u001b[0mgdf_year\u001b[0m \u001b[0;34m=\u001b[0m \u001b[0mgpd\u001b[0m\u001b[0;34m.\u001b[0m\u001b[0mread_file\u001b[0m\u001b[0;34m(\u001b[0m\u001b[0murl_list\u001b[0m\u001b[0;34m[\u001b[0m\u001b[0mnum\u001b[0m\u001b[0;34m]\u001b[0m\u001b[0;34m)\u001b[0m\u001b[0;34m\u001b[0m\u001b[0;34m\u001b[0m\u001b[0m\n\u001b[0m\u001b[1;32m     30\u001b[0m     \u001b[0;32mif\u001b[0m \u001b[0myear\u001b[0m \u001b[0;34m==\u001b[0m \u001b[0;36m11\u001b[0m\u001b[0;34m:\u001b[0m\u001b[0;34m\u001b[0m\u001b[0;34m\u001b[0m\u001b[0m\n\u001b[1;32m     31\u001b[0m         \u001b[0mgdf_year\u001b[0m \u001b[0;34m=\u001b[0m \u001b[0mgdf_year\u001b[0m\u001b[0;34m.\u001b[0m\u001b[0mrename\u001b[0m\u001b[0;34m(\u001b[0m\u001b[0mcolumns\u001b[0m\u001b[0;34m=\u001b[0m\u001b[0;34m{\u001b[0m\u001b[0;34m\"YEAR_\"\u001b[0m \u001b[0;34m:\u001b[0m \u001b[0;34m'YEAR'\u001b[0m\u001b[0;34m}\u001b[0m\u001b[0;34m)\u001b[0m\u001b[0;34m\u001b[0m\u001b[0;34m\u001b[0m\u001b[0m\n",
      "\u001b[0;31mIndexError\u001b[0m: list index out of range"
     ]
    }
   ],
   "source": [
    "get_trafficdata.get_gdf()"
   ]
  },
  {
   "cell_type": "code",
   "execution_count": 39,
   "id": "balanced-orientation",
   "metadata": {},
   "outputs": [],
   "source": [
    "#year = 12\n",
    "#year_input = 7"
   ]
  },
  {
   "cell_type": "code",
   "execution_count": 35,
   "id": "banner-smooth",
   "metadata": {},
   "outputs": [],
   "source": [
    "def year_type(year):\n",
    "    \n",
    "    \"\"\"\n",
    "    This function checks that the\n",
    "    year type is an integer \n",
    "    \"\"\"\n",
    "    if isinstance(year, int):\n",
    "        print('Year is an Integer')\n",
    "    else:\n",
    "        raise Exception('TypeError', 'Year input is not an integer')\n",
    "    return"
   ]
  },
  {
   "cell_type": "code",
   "execution_count": 36,
   "id": "occasional-durham",
   "metadata": {},
   "outputs": [],
   "source": [
    "def year_check (year_input):\n",
    "    \"\"\"\n",
    "    Checks that the user has correctly \n",
    "    input a year in the dataset from 11 \n",
    "    to 18 for the corresponding years\n",
    "    \"\"\"\n",
    "    if  11 <= year_input <= 18:\n",
    "        print('Valid Year Input')\n",
    "    else:\n",
    "        raise Exception('ValueError', 'gdf_year input not between 7 and 18')\n",
    "    return"
   ]
  },
  {
   "cell_type": "code",
   "execution_count": 40,
   "id": "loose-crown",
   "metadata": {},
   "outputs": [
    {
     "name": "stdout",
     "output_type": "stream",
     "text": [
      "Year is an Integer\n"
     ]
    }
   ],
   "source": [
    "year_type(year)"
   ]
  },
  {
   "cell_type": "code",
   "execution_count": 41,
   "id": "primary-diabetes",
   "metadata": {},
   "outputs": [
    {
     "ename": "Exception",
     "evalue": "('ValueError', 'gdf_year input not between 7 and 18')",
     "output_type": "error",
     "traceback": [
      "\u001b[0;31m---------------------------------------------------------------------------\u001b[0m",
      "\u001b[0;31mException\u001b[0m                                 Traceback (most recent call last)",
      "\u001b[0;32m<ipython-input-41-353fad2e7072>\u001b[0m in \u001b[0;36m<module>\u001b[0;34m\u001b[0m\n\u001b[0;32m----> 1\u001b[0;31m \u001b[0myear_check\u001b[0m\u001b[0;34m(\u001b[0m\u001b[0myear_input\u001b[0m\u001b[0;34m)\u001b[0m\u001b[0;34m\u001b[0m\u001b[0;34m\u001b[0m\u001b[0m\n\u001b[0m",
      "\u001b[0;32m<ipython-input-36-cfb17184a1b2>\u001b[0m in \u001b[0;36myear_check\u001b[0;34m(year_input)\u001b[0m\n\u001b[1;32m      4\u001b[0m     \u001b[0;32melse\u001b[0m\u001b[0;34m:\u001b[0m\u001b[0;34m\u001b[0m\u001b[0;34m\u001b[0m\u001b[0m\n\u001b[1;32m      5\u001b[0m         \u001b[0;31m#print('No')\u001b[0m\u001b[0;34m\u001b[0m\u001b[0;34m\u001b[0m\u001b[0;34m\u001b[0m\u001b[0m\n\u001b[0;32m----> 6\u001b[0;31m         \u001b[0;32mraise\u001b[0m \u001b[0mException\u001b[0m\u001b[0;34m(\u001b[0m\u001b[0;34m'ValueError'\u001b[0m\u001b[0;34m,\u001b[0m \u001b[0;34m'gdf_year input not between 7 and 18'\u001b[0m\u001b[0;34m)\u001b[0m\u001b[0;34m\u001b[0m\u001b[0;34m\u001b[0m\u001b[0m\n\u001b[0m\u001b[1;32m      7\u001b[0m     \u001b[0;32mreturn\u001b[0m\u001b[0;34m\u001b[0m\u001b[0;34m\u001b[0m\u001b[0m\n",
      "\u001b[0;31mException\u001b[0m: ('ValueError', 'gdf_year input not between 7 and 18')"
     ]
    }
   ],
   "source": [
    "year_check(year_input)"
   ]
  },
  {
   "cell_type": "code",
   "execution_count": null,
   "id": "abandoned-respondent",
   "metadata": {},
   "outputs": [],
   "source": []
  }
 ],
 "metadata": {
  "kernelspec": {
   "display_name": "Python 3",
   "language": "python",
   "name": "python3"
  },
  "language_info": {
   "codemirror_mode": {
    "name": "ipython",
    "version": 3
   },
   "file_extension": ".py",
   "mimetype": "text/x-python",
   "name": "python",
   "nbconvert_exporter": "python",
   "pygments_lexer": "ipython3",
   "version": "3.8.5"
  }
 },
 "nbformat": 4,
 "nbformat_minor": 5
}
