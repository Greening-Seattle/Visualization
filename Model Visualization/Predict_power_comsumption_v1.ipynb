{
  "nbformat": 4,
  "nbformat_minor": 0,
  "metadata": {
    "anaconda-cloud": {},
    "kernelspec": {
      "display_name": "Python (tunnel)",
      "language": "python",
      "name": "python3"
    },
    "language_info": {
      "codemirror_mode": {
        "name": "ipython",
        "version": 3
      },
      "file_extension": ".py",
      "mimetype": "text/x-python",
      "name": "python",
      "nbconvert_exporter": "python",
      "pygments_lexer": "ipython3",
      "version": "3.7.7"
    },
    "colab": {
      "name": "Predict_power_comsumption_v1.ipynb",
      "provenance": [],
      "collapsed_sections": []
    }
  },
  "cells": [
    {
      "cell_type": "code",
      "metadata": {
        "id": "Bq-cWBHwWCJt"
      },
      "source": [
        "import matplotlib.pyplot as plt\r\n",
        "import numpy as np\r\n",
        "import pandas as pd\r\n",
        "import seaborn as sns\r\n",
        "\r\n",
        "\r\n",
        "# Make numpy printouts easier to read.\r\n",
        "np.set_printoptions(precision=3, suppress=True)"
      ],
      "execution_count": 1,
      "outputs": []
    },
    {
      "cell_type": "code",
      "metadata": {
        "colab": {
          "base_uri": "https://localhost:8080/"
        },
        "id": "4nr0Iby249r1",
        "outputId": "0fd475d3-545d-46d6-96d8-a10e0b385963"
      },
      "source": [
        "from google.colab import drive\n",
        "drive.mount('/content/drive')"
      ],
      "execution_count": 2,
      "outputs": [
        {
          "output_type": "stream",
          "text": [
            "Mounted at /content/drive\n"
          ],
          "name": "stdout"
        }
      ]
    },
    {
      "cell_type": "code",
      "metadata": {
        "id": "WxZkLqjS_O8A",
        "colab": {
          "base_uri": "https://localhost:8080/"
        },
        "outputId": "1da2362d-8659-4d0a-ad61-95ef76e741b7"
      },
      "source": [
        "%load_ext tensorboard\r\n",
        "import tensorflow as tf\r\n",
        "\r\n",
        "from tensorflow import keras\r\n",
        "from tensorflow.keras import layers\r\n",
        "from tensorflow.keras.layers.experimental import preprocessing\r\n",
        "\r\n",
        "print(tf.__version__)\r\n",
        "import datetime, os"
      ],
      "execution_count": 3,
      "outputs": [
        {
          "output_type": "stream",
          "text": [
            "2.4.1\n"
          ],
          "name": "stdout"
        }
      ]
    },
    {
      "cell_type": "markdown",
      "metadata": {
        "id": "yJ_f5t4yPPc6"
      },
      "source": [
        "1.1 import dataset"
      ]
    },
    {
      "cell_type": "code",
      "metadata": {
        "colab": {
          "base_uri": "https://localhost:8080/",
          "height": 304
        },
        "id": "C_JybQvFx5qV",
        "outputId": "ab7e46a7-63d4-451e-a89c-2574864b9b88"
      },
      "source": [
        "\r\n",
        "# dataset = pd.read_csv('/content/drive/MyDrive/Courses/1. Chem 545 546/Project/volkswagen_e_golf.csv',encoding='latin-1')\r\n",
        "dataset = pd.read_csv('volkswagen_e_golf.csv',encoding='latin-1')\r\n",
        "\r\n",
        "df = pd.DataFrame(dataset)\r\n",
        "\r\n",
        "dataset.head()\r\n"
      ],
      "execution_count": 4,
      "outputs": [
        {
          "output_type": "execute_result",
          "data": {
            "text/html": [
              "<div>\n",
              "<style scoped>\n",
              "    .dataframe tbody tr th:only-of-type {\n",
              "        vertical-align: middle;\n",
              "    }\n",
              "\n",
              "    .dataframe tbody tr th {\n",
              "        vertical-align: top;\n",
              "    }\n",
              "\n",
              "    .dataframe thead th {\n",
              "        text-align: right;\n",
              "    }\n",
              "</style>\n",
              "<table border=\"1\" class=\"dataframe\">\n",
              "  <thead>\n",
              "    <tr style=\"text-align: right;\">\n",
              "      <th></th>\n",
              "      <th>manufacturer</th>\n",
              "      <th>model</th>\n",
              "      <th>version</th>\n",
              "      <th>power(kW)</th>\n",
              "      <th>fuel_date</th>\n",
              "      <th>trip_distance(km)</th>\n",
              "      <th>quantity(kWh)</th>\n",
              "      <th>fuel_type</th>\n",
              "      <th>tire_type</th>\n",
              "      <th>city</th>\n",
              "      <th>motor_way</th>\n",
              "      <th>country_roads</th>\n",
              "      <th>driving_style</th>\n",
              "      <th>consumption(kWh/100km)</th>\n",
              "      <th>A/C</th>\n",
              "      <th>park_heating</th>\n",
              "      <th>avg_speed(km/h)</th>\n",
              "      <th>ecr_deviation</th>\n",
              "    </tr>\n",
              "  </thead>\n",
              "  <tbody>\n",
              "    <tr>\n",
              "      <th>0</th>\n",
              "      <td>Volkswagen</td>\n",
              "      <td>Golf</td>\n",
              "      <td>e-Golf</td>\n",
              "      <td>85</td>\n",
              "      <td>08.02.2019</td>\n",
              "      <td>80</td>\n",
              "      <td>NaN</td>\n",
              "      <td>Electricity</td>\n",
              "      <td>Winter tires</td>\n",
              "      <td>0</td>\n",
              "      <td>0</td>\n",
              "      <td>1</td>\n",
              "      <td>Normal</td>\n",
              "      <td>17.8</td>\n",
              "      <td>0</td>\n",
              "      <td>1</td>\n",
              "      <td>53.0</td>\n",
              "      <td>1.0</td>\n",
              "    </tr>\n",
              "    <tr>\n",
              "      <th>1</th>\n",
              "      <td>Volkswagen</td>\n",
              "      <td>Golf</td>\n",
              "      <td>e-Golf</td>\n",
              "      <td>85</td>\n",
              "      <td>06.02.2019</td>\n",
              "      <td>50</td>\n",
              "      <td>12.29</td>\n",
              "      <td>Electricity</td>\n",
              "      <td>Winter tires</td>\n",
              "      <td>0</td>\n",
              "      <td>0</td>\n",
              "      <td>1</td>\n",
              "      <td>Normal</td>\n",
              "      <td>15.5</td>\n",
              "      <td>0</td>\n",
              "      <td>1</td>\n",
              "      <td>47.0</td>\n",
              "      <td>-1.3</td>\n",
              "    </tr>\n",
              "    <tr>\n",
              "      <th>2</th>\n",
              "      <td>Volkswagen</td>\n",
              "      <td>Golf</td>\n",
              "      <td>e-Golf</td>\n",
              "      <td>85</td>\n",
              "      <td>05.02.2019</td>\n",
              "      <td>43</td>\n",
              "      <td>8.68</td>\n",
              "      <td>Electricity</td>\n",
              "      <td>Winter tires</td>\n",
              "      <td>0</td>\n",
              "      <td>1</td>\n",
              "      <td>1</td>\n",
              "      <td>Normal</td>\n",
              "      <td>18.0</td>\n",
              "      <td>0</td>\n",
              "      <td>1</td>\n",
              "      <td>58.0</td>\n",
              "      <td>1.2</td>\n",
              "    </tr>\n",
              "    <tr>\n",
              "      <th>3</th>\n",
              "      <td>Volkswagen</td>\n",
              "      <td>Golf</td>\n",
              "      <td>e-Golf</td>\n",
              "      <td>85</td>\n",
              "      <td>04.02.2019</td>\n",
              "      <td>44</td>\n",
              "      <td>1.50</td>\n",
              "      <td>Electricity</td>\n",
              "      <td>Winter tires</td>\n",
              "      <td>0</td>\n",
              "      <td>1</td>\n",
              "      <td>1</td>\n",
              "      <td>Normal</td>\n",
              "      <td>16.1</td>\n",
              "      <td>0</td>\n",
              "      <td>1</td>\n",
              "      <td>43.0</td>\n",
              "      <td>-0.7</td>\n",
              "    </tr>\n",
              "    <tr>\n",
              "      <th>4</th>\n",
              "      <td>Volkswagen</td>\n",
              "      <td>Golf</td>\n",
              "      <td>e-Golf</td>\n",
              "      <td>85</td>\n",
              "      <td>04.02.2019</td>\n",
              "      <td>76</td>\n",
              "      <td>14.44</td>\n",
              "      <td>Electricity</td>\n",
              "      <td>Winter tires</td>\n",
              "      <td>0</td>\n",
              "      <td>1</td>\n",
              "      <td>0</td>\n",
              "      <td>Normal</td>\n",
              "      <td>19.0</td>\n",
              "      <td>0</td>\n",
              "      <td>1</td>\n",
              "      <td>76.0</td>\n",
              "      <td>2.2</td>\n",
              "    </tr>\n",
              "  </tbody>\n",
              "</table>\n",
              "</div>"
            ],
            "text/plain": [
              "  manufacturer model version  ...  park_heating avg_speed(km/h) ecr_deviation\n",
              "0   Volkswagen  Golf  e-Golf  ...             1            53.0           1.0\n",
              "1   Volkswagen  Golf  e-Golf  ...             1            47.0          -1.3\n",
              "2   Volkswagen  Golf  e-Golf  ...             1            58.0           1.2\n",
              "3   Volkswagen  Golf  e-Golf  ...             1            43.0          -0.7\n",
              "4   Volkswagen  Golf  e-Golf  ...             1            76.0           2.2\n",
              "\n",
              "[5 rows x 18 columns]"
            ]
          },
          "metadata": {
            "tags": []
          },
          "execution_count": 4
        }
      ]
    },
    {
      "cell_type": "code",
      "metadata": {
        "colab": {
          "base_uri": "https://localhost:8080/"
        },
        "id": "OdjBaV6j80zO",
        "outputId": "6e5d32a3-cf2a-4cd2-97c3-fd05e224551c"
      },
      "source": [
        "dataset.columns"
      ],
      "execution_count": 5,
      "outputs": [
        {
          "output_type": "execute_result",
          "data": {
            "text/plain": [
              "Index(['manufacturer', 'model', 'version', 'power(kW)', 'fuel_date',\n",
              "       'trip_distance(km)', 'quantity(kWh)', 'fuel_type', 'tire_type', 'city',\n",
              "       'motor_way', 'country_roads', 'driving_style', 'consumption(kWh/100km)',\n",
              "       'A/C', 'park_heating', 'avg_speed(km/h)', 'ecr_deviation'],\n",
              "      dtype='object')"
            ]
          },
          "metadata": {
            "tags": []
          },
          "execution_count": 5
        }
      ]
    },
    {
      "cell_type": "code",
      "metadata": {
        "colab": {
          "base_uri": "https://localhost:8080/"
        },
        "id": "iTAlV69NNnE4",
        "outputId": "70d14725-54c2-4aa0-acd7-59ba7bb76358"
      },
      "source": [
        "dataset.isna().sum()"
      ],
      "execution_count": 6,
      "outputs": [
        {
          "output_type": "execute_result",
          "data": {
            "text/plain": [
              "manufacturer               0\n",
              "model                      0\n",
              "version                    0\n",
              "power(kW)                  0\n",
              "fuel_date                  0\n",
              "trip_distance(km)          1\n",
              "quantity(kWh)              1\n",
              "fuel_type                  0\n",
              "tire_type                  0\n",
              "city                       0\n",
              "motor_way                  0\n",
              "country_roads              0\n",
              "driving_style              0\n",
              "consumption(kWh/100km)     0\n",
              "A/C                        0\n",
              "park_heating               0\n",
              "avg_speed(km/h)           13\n",
              "ecr_deviation              0\n",
              "dtype: int64"
            ]
          },
          "metadata": {
            "tags": []
          },
          "execution_count": 6
        }
      ]
    },
    {
      "cell_type": "code",
      "metadata": {
        "colab": {
          "base_uri": "https://localhost:8080/"
        },
        "id": "lOZQEeEiNuBq",
        "outputId": "0d9c789d-d4b6-4318-d595-d96413769639"
      },
      "source": [
        "# clean the data\r\n",
        "dataset = dataset.dropna()\r\n",
        "dataset.isna().sum()"
      ],
      "execution_count": 7,
      "outputs": [
        {
          "output_type": "execute_result",
          "data": {
            "text/plain": [
              "manufacturer              0\n",
              "model                     0\n",
              "version                   0\n",
              "power(kW)                 0\n",
              "fuel_date                 0\n",
              "trip_distance(km)         0\n",
              "quantity(kWh)             0\n",
              "fuel_type                 0\n",
              "tire_type                 0\n",
              "city                      0\n",
              "motor_way                 0\n",
              "country_roads             0\n",
              "driving_style             0\n",
              "consumption(kWh/100km)    0\n",
              "A/C                       0\n",
              "park_heating              0\n",
              "avg_speed(km/h)           0\n",
              "ecr_deviation             0\n",
              "dtype: int64"
            ]
          },
          "metadata": {
            "tags": []
          },
          "execution_count": 7
        }
      ]
    },
    {
      "cell_type": "code",
      "metadata": {
        "id": "qnPic9TjOthO"
      },
      "source": [
        ""
      ],
      "execution_count": null,
      "outputs": []
    },
    {
      "cell_type": "markdown",
      "metadata": {
        "id": "Cuym4yvk76vU"
      },
      "source": [
        "### Split the data into train and test\n",
        "\n",
        "Now split the dataset into a training set and a test set.\n",
        "\n",
        "Use the test set in the final evaluation of our models."
      ]
    },
    {
      "cell_type": "code",
      "metadata": {
        "id": "qn-IGhUE7_1H"
      },
      "source": [
        "train_dataset = dataset.sample(frac=0.8, random_state=0)\n",
        "test_dataset = dataset.drop(train_dataset.index)\n",
        "features_select=['avg_speed(km/h)','motor_way', 'country_roads']\n",
        "# features_select=['avg_speed(km/h)','motor_way']\n",
        "\n",
        "# features_select=['trip_distance(km)','avg_speed(km/h)']\n",
        "\n",
        "train_features = train_dataset[features_select]\n",
        "test_features = test_dataset[features_select]\n",
        "\n",
        "# train_labels = train_dataset[['quantity(kWh)']]\n",
        "# test_labels = test_dataset[['quantity(kWh)']]\n",
        "\n",
        "train_labels = train_dataset[['consumption(kWh/100km)']]\n",
        "test_labels = test_dataset[['consumption(kWh/100km)']]"
      ],
      "execution_count": 8,
      "outputs": []
    },
    {
      "cell_type": "code",
      "metadata": {
        "colab": {
          "base_uri": "https://localhost:8080/",
          "height": 408
        },
        "id": "fg82tor5Zhdb",
        "outputId": "5488e86b-adbe-4b48-b22b-f350c323bd2c"
      },
      "source": [
        "train_features"
      ],
      "execution_count": 9,
      "outputs": [
        {
          "output_type": "execute_result",
          "data": {
            "text/html": [
              "<div>\n",
              "<style scoped>\n",
              "    .dataframe tbody tr th:only-of-type {\n",
              "        vertical-align: middle;\n",
              "    }\n",
              "\n",
              "    .dataframe tbody tr th {\n",
              "        vertical-align: top;\n",
              "    }\n",
              "\n",
              "    .dataframe thead th {\n",
              "        text-align: right;\n",
              "    }\n",
              "</style>\n",
              "<table border=\"1\" class=\"dataframe\">\n",
              "  <thead>\n",
              "    <tr style=\"text-align: right;\">\n",
              "      <th></th>\n",
              "      <th>avg_speed(km/h)</th>\n",
              "      <th>motor_way</th>\n",
              "      <th>country_roads</th>\n",
              "    </tr>\n",
              "  </thead>\n",
              "  <tbody>\n",
              "    <tr>\n",
              "      <th>3132</th>\n",
              "      <td>48.0</td>\n",
              "      <td>1</td>\n",
              "      <td>1</td>\n",
              "    </tr>\n",
              "    <tr>\n",
              "      <th>2894</th>\n",
              "      <td>29.0</td>\n",
              "      <td>0</td>\n",
              "      <td>1</td>\n",
              "    </tr>\n",
              "    <tr>\n",
              "      <th>883</th>\n",
              "      <td>75.0</td>\n",
              "      <td>1</td>\n",
              "      <td>0</td>\n",
              "    </tr>\n",
              "    <tr>\n",
              "      <th>2359</th>\n",
              "      <td>63.0</td>\n",
              "      <td>1</td>\n",
              "      <td>0</td>\n",
              "    </tr>\n",
              "    <tr>\n",
              "      <th>2243</th>\n",
              "      <td>19.0</td>\n",
              "      <td>0</td>\n",
              "      <td>0</td>\n",
              "    </tr>\n",
              "    <tr>\n",
              "      <th>...</th>\n",
              "      <td>...</td>\n",
              "      <td>...</td>\n",
              "      <td>...</td>\n",
              "    </tr>\n",
              "    <tr>\n",
              "      <th>2776</th>\n",
              "      <td>23.0</td>\n",
              "      <td>0</td>\n",
              "      <td>0</td>\n",
              "    </tr>\n",
              "    <tr>\n",
              "      <th>1191</th>\n",
              "      <td>47.0</td>\n",
              "      <td>1</td>\n",
              "      <td>1</td>\n",
              "    </tr>\n",
              "    <tr>\n",
              "      <th>338</th>\n",
              "      <td>77.0</td>\n",
              "      <td>1</td>\n",
              "      <td>0</td>\n",
              "    </tr>\n",
              "    <tr>\n",
              "      <th>47</th>\n",
              "      <td>68.0</td>\n",
              "      <td>0</td>\n",
              "      <td>1</td>\n",
              "    </tr>\n",
              "    <tr>\n",
              "      <th>749</th>\n",
              "      <td>66.0</td>\n",
              "      <td>1</td>\n",
              "      <td>0</td>\n",
              "    </tr>\n",
              "  </tbody>\n",
              "</table>\n",
              "<p>2665 rows × 3 columns</p>\n",
              "</div>"
            ],
            "text/plain": [
              "      avg_speed(km/h)  motor_way  country_roads\n",
              "3132             48.0          1              1\n",
              "2894             29.0          0              1\n",
              "883              75.0          1              0\n",
              "2359             63.0          1              0\n",
              "2243             19.0          0              0\n",
              "...               ...        ...            ...\n",
              "2776             23.0          0              0\n",
              "1191             47.0          1              1\n",
              "338              77.0          1              0\n",
              "47               68.0          0              1\n",
              "749              66.0          1              0\n",
              "\n",
              "[2665 rows x 3 columns]"
            ]
          },
          "metadata": {
            "tags": []
          },
          "execution_count": 9
        }
      ]
    },
    {
      "cell_type": "markdown",
      "metadata": {
        "id": "SmjdzxKzEu1-"
      },
      "source": [
        "## A DNN regression"
      ]
    },
    {
      "cell_type": "code",
      "metadata": {
        "colab": {
          "base_uri": "https://localhost:8080/"
        },
        "id": "0ZG1Nci2EfIs",
        "outputId": "196cc122-4bb7-4969-b987-87586b2fea07"
      },
      "source": [
        "from tensorboard import notebook\r\n",
        "notebook.list() # View open TensorBoard instances"
      ],
      "execution_count": 25,
      "outputs": [
        {
          "output_type": "stream",
          "text": [
            "Known TensorBoard instances:\n",
            "  - port 6006: logdir logs (started 0:03:12 ago; pid 259)\n"
          ],
          "name": "stdout"
        }
      ]
    },
    {
      "cell_type": "code",
      "metadata": {
        "id": "c26juK7ZG8j-"
      },
      "source": [
        "def build_and_compile_model(norm):\n",
        "  model = keras.Sequential([\n",
        "      norm,\n",
        "      layers.Dense(64, activation='tanh'),\n",
        "      layers.Dense(64, activation='tanh'),\n",
        "      layers.Dense(1)\n",
        "  ])\n",
        "\n",
        "  model.compile(loss='mean_absolute_error',\n",
        "                metrics=['accuracy'],\n",
        "                optimizer=tf.keras.optimizers.Adam(0.005))\n",
        "\n",
        "  return model"
      ],
      "execution_count": 20,
      "outputs": []
    },
    {
      "cell_type": "code",
      "metadata": {
        "id": "_l2MUOmzQXN8"
      },
      "source": [
        "normalizer = preprocessing.Normalization()\r\n",
        "normalizer.adapt(np.array(train_features))\r\n"
      ],
      "execution_count": 37,
      "outputs": []
    },
    {
      "cell_type": "code",
      "metadata": {
        "id": "c0mhscXh2k36",
        "colab": {
          "base_uri": "https://localhost:8080/"
        },
        "outputId": "9f12923e-f807-4631-ebcd-64ab85ee0da4"
      },
      "source": [
        "dnn_model = build_and_compile_model(normalizer)\n",
        "dnn_model.summary()\n",
        "logdir = os.path.join(\"logs\", datetime.datetime.now().strftime(\"%Y%m%d-%H%M%S\"))\n",
        "tensorboard_callback = tf.keras.callbacks.TensorBoard(logdir, histogram_freq=1)"
      ],
      "execution_count": 39,
      "outputs": [
        {
          "output_type": "stream",
          "text": [
            "Model: \"sequential_5\"\n",
            "_________________________________________________________________\n",
            "Layer (type)                 Output Shape              Param #   \n",
            "=================================================================\n",
            "normalization_2 (Normalizati (None, 3)                 7         \n",
            "_________________________________________________________________\n",
            "dense_15 (Dense)             (None, 64)                256       \n",
            "_________________________________________________________________\n",
            "dense_16 (Dense)             (None, 64)                4160      \n",
            "_________________________________________________________________\n",
            "dense_17 (Dense)             (None, 1)                 65        \n",
            "=================================================================\n",
            "Total params: 4,488\n",
            "Trainable params: 4,481\n",
            "Non-trainable params: 7\n",
            "_________________________________________________________________\n"
          ],
          "name": "stdout"
        }
      ]
    },
    {
      "cell_type": "markdown",
      "metadata": {
        "id": "k2n8O-41lQu2"
      },
      "source": [
        "This is the key component in fitting the features to the labels"
      ]
    },
    {
      "cell_type": "code",
      "metadata": {
        "id": "ASF7U-U8EoIu"
      },
      "source": [
        "history = dnn_model.fit(\r\n",
        "    train_features, train_labels,\r\n",
        "    validation_split=0.2,\r\n",
        "    verbose=0, epochs=100, \r\n",
        "    callbacks=[tensorboard_callback])"
      ],
      "execution_count": 40,
      "outputs": []
    },
    {
      "cell_type": "code",
      "metadata": {
        "id": "YbRinzTPWTxF"
      },
      "source": [
        "def plot_loss(history):\r\n",
        "  plt.plot(history.history['loss'], label='loss')\r\n",
        "  plt.plot(history.history['val_loss'], label='val_loss')\r\n",
        "  # plt.ylim([0, 10])\r\n",
        "  plt.xlabel('Epoch')\r\n",
        "  plt.ylabel('Error [MPG]')\r\n",
        "  plt.legend()\r\n",
        "  plt.grid(True)"
      ],
      "execution_count": 41,
      "outputs": []
    },
    {
      "cell_type": "code",
      "metadata": {
        "id": "-9Dbj0fX23RQ",
        "colab": {
          "base_uri": "https://localhost:8080/",
          "height": 279
        },
        "outputId": "f9fe7194-316b-4fbf-92b1-d6a9633470d1"
      },
      "source": [
        "plot_loss(history)"
      ],
      "execution_count": 46,
      "outputs": [
        {
          "output_type": "display_data",
          "data": {
            "image/png": "[encoded data removed]",
            "text/plain": [
              "<Figure size 432x288 with 1 Axes>"
            ]
          },
          "metadata": {
            "tags": [],
            "needs_background": "light"
          }
        }
      ]
    },
    {
      "cell_type": "markdown",
      "metadata": {
        "id": "owh56aMJlenR"
      },
      "source": [
        "use tensorboard to visualize"
      ]
    },
    {
      "cell_type": "code",
      "metadata": {
        "id": "TxJ6zN5W_qHx"
      },
      "source": [
        "%tensorboard --logdir logs"
      ],
      "execution_count": null,
      "outputs": []
    }
  ]
}